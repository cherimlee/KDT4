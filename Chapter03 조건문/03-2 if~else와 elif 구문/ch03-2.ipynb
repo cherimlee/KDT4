{
 "cells": [
  {
   "cell_type": "markdown",
   "metadata": {},
   "source": [
    "### 03-2 if - else 와 elif 문\n",
    "---\n",
    "#### 시작하기 전에\n",
    "**두 가지**만 구분되는 실행 흐름 : 오전/오후, 주간/야간, 남/여, 합격/불합격"
   ]
  },
  {
   "cell_type": "code",
   "execution_count": null,
   "metadata": {},
   "outputs": [],
   "source": [
    "# 오전/오후\n",
    "import datetime\n",
    "\n",
    "time = int(input())\n",
    "\n",
    "if time > 0 and < 12        #???????????????????\n",
    "    print(\"오전입니다.\")\n",
    "elif time >12 and <24\n",
    "    print(\"오후입니다.\")"
   ]
  },
  {
   "cell_type": "markdown",
   "metadata": {},
   "source": [
    "> ***elif*** 구문 : 여러가지 케이스로 분기하고자 할 때 "
   ]
  },
  {
   "cell_type": "code",
   "execution_count": null,
   "metadata": {},
   "outputs": [],
   "source": [
    "# 학점 판별\n",
    "score = 0\n",
    "grade = \"\"\n",
    "\n",
    "score = int(input(\"점수를 입력하세요: \"))\n",
    "if score >= 95 :\n",
    "    grade = \"A+\"\n",
    "elif score >= 90 :\n",
    "    grade = \"A\"\n",
    "elif score >= 85 :\n",
    "    grade = \"B+\"\n",
    "elif score >= 80 :\n",
    "    grade = \"B\"\n",
    "elif score >= 75 :\n",
    "    grade = \"C+\"\n",
    "elif score >= 70 :\n",
    "    grade = \"C\"\n",
    "else :\n",
    "    grade = \"F\"\n",
    "print (f\"당신의 점수는 {score}점이고 등급은 {grade}입니다.\")\n"
   ]
  },
  {
   "cell_type": "markdown",
   "metadata": {},
   "source": [
    ">***False***로 변환되는 값 : 0.00, 빈 컨테이너, 빈 문자열"
   ]
  },
  {
   "cell_type": "code",
   "execution_count": null,
   "metadata": {},
   "outputs": [],
   "source": [
    "if 0:\n",
    "    print(\"0은 True로 변환\")\n",
    "else :\n",
    "    print(\"0은 False로 변환\")\n",
    "\n",
    "\n"
   ]
  },
  {
   "cell_type": "markdown",
   "metadata": {},
   "source": [
    "> ***pass*** 키워드 : 프로그래밍 시 전체 골격을 잡아 놓고 처리 할 내용은 차근차근 생각해보자 !"
   ]
  },
  {
   "cell_type": "code",
   "execution_count": null,
   "metadata": {},
   "outputs": [],
   "source": [
    "number = input(\"정수입력: \") #사용자입력\n",
    "number = int(number)        #재할당\n",
    "\n",
    "if number > 0 :\n",
    "    # 양수일 때 : 아직 미구현 상태\n",
    "    0\n",
    "else :\n",
    "    # 음수일 때 : 아직 미구현 상태\n",
    "    0\n",
    "\n",
    "if number > 0 :\n",
    "    pass\n",
    "else :\n",
    "    pass\n",
    " \n",
    "# 예외처리\n",
    "if number > 0 :\n",
    "    raise NotImplementedError\n",
    "else :\n",
    "    NotImplementedError\n"
   ]
  },
  {
   "cell_type": "markdown",
   "metadata": {},
   "source": [
    "> 사용자로부터 태어난 년도를 입력받아 띠를 리턴해주는 프로그램 작성"
   ]
  },
  {
   "cell_type": "code",
   "execution_count": null,
   "metadata": {},
   "outputs": [],
   "source": [
    "num = int(input(\"출생년도를 입력하시오: \"))\n",
    "\n",
    "# 윈도우 + 땀 -> 이모지\n",
    "if num % 12 == 0 :\n",
    "    print(\"원숭이띠 입니다.\")\n",
    "if num % 12 == 1 :\n",
    "    print(\"닭띠 입니다.\")\n",
    "if num % 12 == 2 :\n",
    "    print(\"개띠 입니다.\")\n",
    "if num % 12 == 3 :\n",
    "    print(\"돼지띠 입니다.\")\n",
    "if num % 12 == 4 :\n",
    "    print(\"쥐띠 입니다.\")\n",
    "if num % 12 == 5 :\n",
    "    print(\"소띠 입니다.\")\n",
    "if num % 12 == 6 :\n",
    "    print(\"범띠 입니다.\")\n",
    "if num % 12 == 7 :\n",
    "    print(\"토끼띠 입니다.\")\n",
    "if num % 12 == 8 :\n",
    "    print(\"뱀띠 입니다.\")\n",
    "if num % 12 == 9 :\n",
    "    print(\"용띠 입니다.\")\n",
    "if num % 12 == 10 :\n",
    "    print(\"말띠 입니다.\")\n",
    "if num % 12 == 11 :\n",
    "    print(\"양띠 입니다.\")\n",
    "else :\n",
    "    (\"외계인 입니다.\")"
   ]
  },
  {
   "cell_type": "code",
   "execution_count": null,
   "metadata": {},
   "outputs": [],
   "source": [
    "# 이모지 띠 출력\n",
    "str_input = input(\"태어난 년도를 입력하시오 : \")\n",
    "year_data = int(str_input)\n",
    "remainder = year_data % 12\n",
    "# 띠\n",
    "sign = \"\" \n",
    "print(f\"나머지 값 {remainder}\")\n",
    "\n",
    "if remainder == :\n",
    "    sign = \"🐓\"\n",
    "print(f\"당신은 {remainder}띠 입니다.\")"
   ]
  },
  {
   "cell_type": "markdown",
   "metadata": {},
   "source": [
    "> 현재 계절을 리턴해주는 프로그램 작성"
   ]
  },
  {
   "cell_type": "code",
   "execution_count": null,
   "metadata": {},
   "outputs": [],
   "source": [
    "#1\n",
    "import datetime\n",
    "\n",
    "current_mth = datetime.now().month\n",
    "if current_mth == 1 or current_mth == 2 :\n",
    "    current_mth += 12\n",
    "\n",
    "if 3 <= current_mth <= 5 :\n",
    "    print(\"봄입니다.\")\n",
    "if 6 <= current_mth <= 8 :\n",
    "    print(\"여름입니다.\")\n",
    "if 9 <= current_mth <= 11 :\n",
    "    print(\"가을입니다.\")\n",
    "if 12 <= current_mth <= 14 :\n",
    "    print(\"겨울입니다.\")\n",
    "\n",
    "#2\n",
    "season = int(input(\"지금은 몇월입니까? \"))\n",
    "\n",
    "if (3 <= season >= 5):\n",
    "    print(\"봄바람 살랑살랑\")\n",
    "elif (6<= season <=8) :\n",
    "    print(\"갈매기 끼릭끼릭\")\n",
    "elif (9<= season <=11) :\n",
    "    print(\"단풍잎 하늘하늘\")\n",
    "elif (season == 12) :\n",
    "    print(\"눈송이 소복소복\")\n",
    "elif (season <= 2) :\n",
    "    print(\"감기 조심하세요~\")"
   ]
  },
  {
   "cell_type": "markdown",
   "metadata": {},
   "source": [
    "> 나머지를 사용하지 않고 짝수, 홀수 구분하는 프로그램"
   ]
  },
  {
   "cell_type": "code",
   "execution_count": null,
   "metadata": {},
   "outputs": [],
   "source": [
    "#1\n",
    "input_data = input(\"정수 입력\")\n",
    "\n",
    "last_char = input_data[-1]      #마지막 자리 숫자 추출\n",
    "\n",
    "number = int(last_char)     # 숫자로 변환\n",
    "\n",
    "if number == 0 or number ==2\\  \n",
    "    or number == 4 or number == 6 or number == 8 :\n",
    "    print(\"{}는 짝수입니다.\".format(input_data))\n",
    "else:\n",
    "    print(\"{}는 홀수입니다.\".format(input_data))"
   ]
  },
  {
   "cell_type": "code",
   "execution_count": null,
   "metadata": {},
   "outputs": [],
   "source": [
    "#2 in함수를 이용해 문자열에서 뽑기\n",
    "input_data = (\"정수 입력> \")\n",
    "\n",
    "last_char = input_data[-1]  #마지막 자리 숫자 추출\n",
    "\n",
    "if last_char in \"02468\"\n",
    "    print(\"{}는 짝수입니다.\".format(input_data))\n",
    "else :\n",
    "    print(\"{}는 홀수입니다.\".format(input_data))"
   ]
  },
  {
   "cell_type": "code",
   "execution_count": null,
   "metadata": {},
   "outputs": [],
   "source": [
    "#3\n",
    "if number % 2 == 0 :\n",
    "    print(\"{}는 짝수입니다.\".format(input_data))\n",
    "else :\n",
    "    print(\"{}는 홀수입니다.\".format(input_data))"
   ]
  }
 ],
 "metadata": {
  "interpreter": {
   "hash": "054c0b5073ae8ed56926c5c67113945079b283bacf1a269ae7086b3d9eebd60c"
  },
  "kernelspec": {
   "display_name": "Python 3.10.1 64-bit",
   "language": "python",
   "name": "python3"
  },
  "language_info": {
   "codemirror_mode": {
    "name": "ipython",
    "version": 3
   },
   "file_extension": ".py",
   "mimetype": "text/x-python",
   "name": "python",
   "nbconvert_exporter": "python",
   "pygments_lexer": "ipython3",
   "version": "3.10.1"
  },
  "orig_nbformat": 4
 },
 "nbformat": 4,
 "nbformat_minor": 2
}
