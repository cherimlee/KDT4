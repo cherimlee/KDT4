{
 "cells": [
  {
   "cell_type": "markdown",
   "metadata": {},
   "source": [
    "### 04-1 리스트와 반복문\n",
    "---\n",
    "#### 시작하기 전에\n",
    "**리스트**란 '목록'이며 여러가지 자료를 저장할 수 있는 자료이다."
   ]
  },
  {
   "cell_type": "code",
   "execution_count": 2,
   "metadata": {},
   "outputs": [
    {
     "data": {
      "text/plain": [
       "False"
      ]
     },
     "execution_count": 2,
     "metadata": {},
     "output_type": "execute_result"
    }
   ],
   "source": [
    "# 리스트이름 = [요소1, 요소2, 요소3.....]\n",
    "# 선형 데이터 구조 : 일렬로 나란히 \n",
    "li = [273, 32, 0, \"문자열\", True, False]\n",
    "li[-1]"
   ]
  },
  {
   "cell_type": "markdown",
   "metadata": {},
   "source": [
    "> 리스트 선언하고 요소(element)에 접근하기 : 리스트 인덱싱(indexing)과 슬라이싱(slicing)"
   ]
  },
  {
   "cell_type": "code",
   "execution_count": 12,
   "metadata": {},
   "outputs": [
    {
     "data": {
      "text/plain": [
       "'b'"
      ]
     },
     "execution_count": 12,
     "metadata": {},
     "output_type": "execute_result"
    }
   ],
   "source": [
    "# 리스트 안의 리스트 안의 리스트 안의 리스트....\n",
    "\n",
    "il = [1,2,3,4,5]\n",
    "sl = [\"안\",\"녕\",\"하\",\"세\",\"요\"]\n",
    "tl = [273, 32, 103, \"문자열\", [True, False, [\"a\",\"b\",\"c\"]], \"Hello\"]\n",
    "\n",
    "sl[2]\n",
    "tl[4][2][1] #b 삼차원 배열 \n",
    "\n",
    "# 대한민국 서울시 강남구 테헤란로..... -> 집 주소 "
   ]
  },
  {
   "cell_type": "code",
   "execution_count": null,
   "metadata": {},
   "outputs": [],
   "source": [
    "str_data = \"Life is too short, You need Python\"\n",
    "str_data[-6]\n",
    "str_data[0:3+1] \n",
    "\n",
    "li = [273, 32, 0, \"문자열\", True, False]\n",
    "\n",
    "# 슬라이싱\n",
    "li[0:3] # 시작 <= 범위 < 끝\n",
    "\n",
    "#리스트의 특정 요소 변경\n",
    "li[0] = \"변경\""
   ]
  },
  {
   "cell_type": "markdown",
   "metadata": {},
   "source": [
    "> 리스트에서의 IndexError(예외)"
   ]
  },
  {
   "cell_type": "code",
   "execution_count": null,
   "metadata": {},
   "outputs": [],
   "source": [
    "a = [273, 32, 103]\n",
    "a[0]\n",
    "a[3]"
   ]
  },
  {
   "cell_type": "markdown",
   "metadata": {},
   "source": [
    "> 리스트 연산자 : *, +, len() "
   ]
  }
 ],
 "metadata": {
  "interpreter": {
   "hash": "054c0b5073ae8ed56926c5c67113945079b283bacf1a269ae7086b3d9eebd60c"
  },
  "kernelspec": {
   "display_name": "Python 3.10.1 64-bit",
   "language": "python",
   "name": "python3"
  },
  "language_info": {
   "codemirror_mode": {
    "name": "ipython",
    "version": 3
   },
   "file_extension": ".py",
   "mimetype": "text/x-python",
   "name": "python",
   "nbconvert_exporter": "python",
   "pygments_lexer": "ipython3",
   "version": "3.10.1"
  },
  "orig_nbformat": 4
 },
 "nbformat": 4,
 "nbformat_minor": 2
}
